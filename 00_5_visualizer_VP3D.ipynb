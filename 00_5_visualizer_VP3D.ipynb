{
 "cells": [
  {
   "cell_type": "markdown",
   "metadata": {},
   "source": [
    "2023.05.01 박진윤 선임연구원, 태안군 인공지능유합산업진흥원"
   ]
  },
  {
   "cell_type": "markdown",
   "metadata": {},
   "source": [
    "## Visualize Custom Dataset\n",
    "- human pose estimation through VideoPose3D\n",
    "https://github.com/facebookresearch/VideoPose3D.git"
   ]
  },
  {
   "cell_type": "code",
   "execution_count": 2,
   "metadata": {},
   "outputs": [],
   "source": [
    "dataset_name = 'elderly'"
   ]
  },
  {
   "cell_type": "code",
   "execution_count": 3,
   "metadata": {},
   "outputs": [],
   "source": [
    "ori_dir = './dataset/custom/'\n",
    "prcs_dir = f'./dataset/preprocess/{dataset_name}/'"
   ]
  },
  {
   "cell_type": "markdown",
   "metadata": {},
   "source": [
    "## Library import"
   ]
  },
  {
   "cell_type": "code",
   "execution_count": 4,
   "id": "f41a2dff",
   "metadata": {},
   "outputs": [
    {
     "name": "stderr",
     "output_type": "stream",
     "text": [
      "Matplotlib created a temporary config/cache directory at /tmp/matplotlib-x2qtn3h5 because the default path (/.config/matplotlib) is not a writable directory; it is highly recommended to set the MPLCONFIGDIR environment variable to a writable directory, in particular to speed up the import of Matplotlib and to better support multiprocessing.\n"
     ]
    }
   ],
   "source": [
    "import matplotlib.pyplot\n",
    "from mpl_toolkits.mplot3d import Axes3D\n",
    "from mpl_toolkits.mplot3d import axes3d\n",
    "import matplotlib.pyplot as plt\n",
    "import numpy as np\n",
    "import os\n",
    "import natsort\n",
    "import imageio\n",
    "import cv2\n",
    "import glob"
   ]
  },
  {
   "cell_type": "code",
   "execution_count": 5,
   "metadata": {},
   "outputs": [],
   "source": [
    "def createFolder(directory):\n",
    "    try:\n",
    "        if os.path.exists(directory):\n",
    "            print('Already Exists')\n",
    "        if not os.path.exists(directory):\n",
    "            os.makedirs(directory)\n",
    "            print('Sucess creating directory.' + directory)\n",
    "    except OSError:\n",
    "        print ('Error: Creating directory. ' +  directory)"
   ]
  },
  {
   "cell_type": "markdown",
   "metadata": {},
   "source": [
    "## Assert joint index"
   ]
  },
  {
   "cell_type": "code",
   "execution_count": 6,
   "id": "0ac206e0",
   "metadata": {},
   "outputs": [],
   "source": [
    "bones_3d = [[0, 1, 0],\n",
    "            [1, 2, 0],\n",
    "            [3, 2, 0],\n",
    "            [0, 4, 1],\n",
    "            [4, 5, 1],\n",
    "            [6, 5, 1],\n",
    "            [0, 7, 1],\n",
    "            [8, 7, 1],\n",
    "            [9, 8, 1],\n",
    "            [10, 9, 1],\n",
    "            [11, 8, 1],\n",
    "            [12, 11, 1],\n",
    "            [12, 13, 1],\n",
    "            [14, 8, 0],\n",
    "            [15, 14, 0],\n",
    "            [15, 16, 0]] #0 == red/right, 1 == black/left"
   ]
  },
  {
   "cell_type": "code",
   "execution_count": 8,
   "metadata": {},
   "outputs": [],
   "source": [
    "activity = [[0,'C00'],\n",
    "           [1,'C01'],\n",
    "           [2,'C02'],\n",
    "           [3,'C03']]"
   ]
  },
  {
   "cell_type": "markdown",
   "metadata": {},
   "source": [
    "## Check data format"
   ]
  },
  {
   "cell_type": "code",
   "execution_count": 10,
   "metadata": {},
   "outputs": [
    {
     "data": {
      "text/plain": [
       "['./dataset/custom/C01/out_pose3D_C01_1_output.txt',\n",
       " './dataset/custom/C01/out_pose3D_C01_9_output.txt',\n",
       " './dataset/custom/C01/out_pose3D_C01_8_output.txt',\n",
       " './dataset/custom/C01/out_pose3D_C01_pso_3.txt',\n",
       " './dataset/custom/C01/out_pose3D_ C01_banjintv.txt',\n",
       " './dataset/custom/C01/out_pose3D_C01_pso_v2.txt',\n",
       " './dataset/custom/C01/out_pose3D_C01_pso_4.txt',\n",
       " './dataset/custom/C01/out_pose3D_C01_carryon_3.txt',\n",
       " './dataset/custom/C01/out_pose3D_C01_missiongait_v5.txt',\n",
       " './dataset/custom/C01/out_pose3D_C01_oxfordshire.txt',\n",
       " './dataset/custom/C01/out_pose3D_ C01_banjintv2.txt',\n",
       " './dataset/custom/C01/out_pose3D_C01_pso_v2_3.txt',\n",
       " './dataset/custom/C01/out_pose3D_C01_0_output.txt',\n",
       " './dataset/custom/C01/out_pose3D_C01_15_output.txt',\n",
       " './dataset/custom/C01/out_pose3D_C01_pso_2.txt',\n",
       " './dataset/custom/C01/out_pose3D_C01_pso_v2_2.txt',\n",
       " './dataset/custom/C01/out_pose3D_C01_rehabhos.txt',\n",
       " './dataset/custom/C01/out_pose3D_C01_6_output.txt',\n",
       " './dataset/custom/C01/out_pose3D_C01_2_output.txt',\n",
       " './dataset/custom/C01/out_pose3D_C01_7_output.txt',\n",
       " './dataset/custom/C01/out_pose3D_C01_4_output.txt',\n",
       " './dataset/custom/C01/out_pose3D_C01_3_output.txt',\n",
       " './dataset/custom/C01/out_pose3D_C01_carryon.txt',\n",
       " './dataset/custom/C01/out_pose3D_C01_pso.txt',\n",
       " './dataset/custom/C01/out_pose3D_ C01_banjintv3.txt',\n",
       " './dataset/custom/C01/out_pose3D_C01_16_output.txt',\n",
       " './dataset/custom/C01/out_pose3D_ C01_banjintv4.txt',\n",
       " './dataset/custom/C01/out_pose3D_C01_vintagefitness.txt',\n",
       " './dataset/custom/C01/out_pose3D_C01_5_output.txt',\n",
       " './dataset/custom/C01/out_pose3D_C01_carryon_2.txt']"
      ]
     },
     "execution_count": 10,
     "metadata": {},
     "output_type": "execute_result"
    }
   ],
   "source": [
    "file_list = glob.glob(activity[0][1] + '/*.npy')\n",
    "file_list"
   ]
  },
  {
   "cell_type": "code",
   "execution_count": 59,
   "id": "3c55ea20",
   "metadata": {
    "scrolled": false
   },
   "outputs": [],
   "source": [
    "data_3d = np.load(file_list[0])"
   ]
  },
  {
   "cell_type": "code",
   "execution_count": 69,
   "id": "987c7fc9",
   "metadata": {},
   "outputs": [
    {
     "data": {
      "text/plain": [
       "((1, 17, 3),\n",
       " array([[-2.68900854e-04,  2.80174718e-05,  1.01236415e+00],\n",
       "        [-1.16366982e-01,  5.66733740e-02,  9.23827529e-01],\n",
       "        [-4.92323369e-01,  1.29307270e-01,  3.63995790e-01],\n",
       "        [-4.23039854e-01, -1.42413974e-01,  0.00000000e+00],\n",
       "        [ 1.16315126e-01, -5.67509905e-02,  1.10031462e+00],\n",
       "        [-5.58031917e-01, -1.14353955e-01,  5.76413512e-01],\n",
       "        [-8.37763011e-01, -5.58458090e-01,  1.98928833e-01],\n",
       "        [ 3.53686750e-01, -6.35096282e-02,  1.10562503e+00],\n",
       "        [ 6.86276019e-01, -1.76124111e-01,  1.13711119e+00],\n",
       "        [ 8.37075233e-01, -1.35675192e-01,  1.29416382e+00],\n",
       "        [ 1.04991949e+00, -2.16885135e-01,  1.30093956e+00],\n",
       "        [ 7.15101600e-01, -3.14654738e-01,  1.36808658e+00],\n",
       "        [ 4.87496972e-01, -4.18868959e-01,  1.36149895e+00],\n",
       "        [-9.33015347e-02, -1.43203497e-01,  1.27943432e+00],\n",
       "        [ 5.30587137e-01, -8.33603144e-02,  9.11048174e-01],\n",
       "        [ 2.13626638e-01, -5.74814528e-02,  7.67564178e-01],\n",
       "        [-2.92434424e-01,  2.85664976e-01,  8.10265422e-01]], dtype=float32))"
      ]
     },
     "execution_count": 69,
     "metadata": {},
     "output_type": "execute_result"
    }
   ],
   "source": [
    "data_3d.shape, data_3d[0]"
   ]
  },
  {
   "cell_type": "markdown",
   "metadata": {},
   "source": [
    "## Rearrange data format"
   ]
  },
  {
   "cell_type": "code",
   "execution_count": 11,
   "metadata": {},
   "outputs": [
    {
     "name": "stdout",
     "output_type": "stream",
     "text": [
      "Sucess creating directory../dataset/preprocess/elderly/C00\n",
      "Sucess creating directory../dataset/preprocess/elderly/C01\n",
      "Sucess creating directory../dataset/preprocess/elderly/C02\n",
      "Sucess creating directory../dataset/preprocess/elderly/C03\n"
     ]
    }
   ],
   "source": [
    "for i in activity:\n",
    "    createFolder(prcs_dir + '{}'.format(i[1]))"
   ]
  },
  {
   "cell_type": "code",
   "execution_count": null,
   "id": "ac93ecbe",
   "metadata": {},
   "outputs": [],
   "source": [
    "for act in activity:\n",
    "    cls = act[1]\n",
    "    file_list = glob.glob(ori_dir + cls + '/*.npy')\n",
    "    \n",
    "    for file in file_list:\n",
    "        data_3d = np.load(file)\n",
    "        \n",
    "        file_name = file.split('/')[-1].split('.')[0]\n",
    "        txt_file = prcs_dir + cls + '/' + file_name + '.txt'\n",
    "        \n",
    "        print(f'working on {txt_file}')\n",
    "        with open(txt_file, 'w') as f:\n",
    "            for i in range(len(data_3d)):\n",
    "                for j in range(17): \n",
    "                    for t in range(3):\n",
    "                        f.write(str(data_3d[i][j][t]) + '\\t')\n",
    "                f.write('\\n')\n",
    "            f.close()"
   ]
  },
  {
   "cell_type": "code",
   "execution_count": null,
   "metadata": {},
   "outputs": [],
   "source": [
    "with open(txt_file, 'r') as f:\n",
    "    data = [x.strip().split('\\t') for x in f]\n",
    "    \n",
    "data = np.array(data)\n",
    "data = data.astype('float64')\n",
    "data.shape, data[0]"
   ]
  },
  {
   "cell_type": "code",
   "execution_count": null,
   "metadata": {},
   "outputs": [],
   "source": []
  },
  {
   "cell_type": "markdown",
   "metadata": {},
   "source": [
    "## Visualization"
   ]
  },
  {
   "cell_type": "code",
   "execution_count": null,
   "metadata": {},
   "outputs": [],
   "source": [
    "##viewing just one frame each\n",
    "\n",
    "# %matplotlib notebook\n",
    "\n",
    "frame_idx = 0\n",
    "\n",
    "plt.ioff()\n",
    "# fig = plt.figure(figsize=(20,20), dpi=150)\n",
    "fig = plt.figure()\n",
    "\n",
    "elev= 15\n",
    "azim = 40\n",
    "\n",
    "a = 2 ## changing the size of the figure (x,y,z, range)\n",
    "ax = fig.add_subplot(projection='3d')\n",
    "ax.view_init(elev,azim) #(elev = 위아래, azim = 좌우)\n",
    "ax.set_xlim3d([-0.5*a, 1.0*a])\n",
    "ax.set_zlim3d([0*a, 1.3*a])\n",
    "ax.set_ylim3d([-0.7*a, 0.7*a])\n",
    "\n",
    "ax.set_xlabel('x-axis')\n",
    "ax.set_ylabel('y-axis')\n",
    "ax.set_zlabel('z-axis')\n",
    "\n",
    "for bone in upper_3d: \n",
    "    ## upper_3d -> visualizing only the upper body\n",
    "    ## bones_3d -> visualizing the full body joints\n",
    "    \n",
    "    start = bone[0]\n",
    "    end = bone[1]\n",
    "    \n",
    "    col = 'red' if bone[2] == 0 else 'black' #red = right, black = left\n",
    "\n",
    "    x = [(data[frame_idx][start][1]), (data[frame_idx][end][1])]\n",
    "    y = [(data[frame_idx][start][2]), (data[frame_idx][end][2])]\n",
    "    z = [(data[frame_idx][start][0]), (data[frame_idx][end][0])]\n",
    "    \n",
    "    ax.plot(x, y, z, c = col, linewidth=2)\n",
    "\n",
    "ax.quiver(0,0,0,0.2,0,0, color='r') #x-axis , label = 'x'\n",
    "ax.quiver(0,0,0,0,0.2,0, color='g') #y-axis , label = 'y'\n",
    "ax.quiver(0,0,0,0,0,0.2, color='b') #z-axis , label = 'z'\n",
    "\n",
    "plt.show()"
   ]
  },
  {
   "cell_type": "code",
   "execution_count": null,
   "metadata": {},
   "outputs": [],
   "source": []
  },
  {
   "cell_type": "code",
   "execution_count": null,
   "metadata": {},
   "outputs": [],
   "source": []
  }
 ],
 "metadata": {
  "kernelspec": {
   "display_name": "Python 3",
   "language": "python",
   "name": "python3"
  },
  "language_info": {
   "codemirror_mode": {
    "name": "ipython",
    "version": 3
   },
   "file_extension": ".py",
   "mimetype": "text/x-python",
   "name": "python",
   "nbconvert_exporter": "python",
   "pygments_lexer": "ipython3",
   "version": "3.8.10"
  }
 },
 "nbformat": 4,
 "nbformat_minor": 5
}
