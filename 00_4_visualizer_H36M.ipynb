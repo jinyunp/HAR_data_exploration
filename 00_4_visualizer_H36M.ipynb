{
 "cells": [
  {
   "cell_type": "markdown",
   "metadata": {},
   "source": [
    "2023.04.10 박진윤 선임연구원, 태안군 인공지능유합산업진흥원"
   ]
  },
  {
   "cell_type": "markdown",
   "metadata": {},
   "source": [
    "1. <code>pip install cdflib</code>\n",
    "2. run following code under 'data' path\n",
    "\n",
    "<code> python prepare_data_h36m.py --from-source-cdf ./h36m </code>"
   ]
  },
  {
   "cell_type": "markdown",
   "id": "ef79aba8",
   "metadata": {},
   "source": [
    "## Visualize Human 3.6M Pose public dataset"
   ]
  },
  {
   "cell_type": "code",
   "execution_count": 1,
   "id": "11142f26",
   "metadata": {},
   "outputs": [],
   "source": [
    "dataset_name = 'H36M'"
   ]
  },
  {
   "cell_type": "code",
   "execution_count": 3,
   "metadata": {},
   "outputs": [],
   "source": [
    "ori_dir = f'./dataset/Human3.6M/data/'\n",
    "prcs_dir = f'./dataset/preprocess/{dataset_name}/'"
   ]
  },
  {
   "cell_type": "markdown",
   "metadata": {},
   "source": [
    "## Library import"
   ]
  },
  {
   "cell_type": "code",
   "execution_count": 11,
   "id": "f41a2dff",
   "metadata": {},
   "outputs": [],
   "source": [
    "import matplotlib.pyplot\n",
    "from mpl_toolkits.mplot3d import axes3d\n",
    "import matplotlib.pyplot as plt\n",
    "import numpy as np\n",
    "import os\n",
    "import natsort\n",
    "import imageio\n",
    "import cv2\n",
    "import glob\n",
    "import sys\n",
    "\n",
    "import xml.etree.ElementTree as ET\n",
    "# %matplotlib notebook"
   ]
  },
  {
   "cell_type": "code",
   "execution_count": 5,
   "id": "b63904b7",
   "metadata": {},
   "outputs": [],
   "source": [
    "def createFolder(directory):\n",
    "    try:\n",
    "        if os.path.exists(directory):\n",
    "            print('Already Exists')\n",
    "        if not os.path.exists(directory):\n",
    "            os.makedirs(directory)\n",
    "            print('Sucess creating directory. -> ' + directory)\n",
    "    except OSError:\n",
    "        print ('Error: Creating directory.' +  directory)"
   ]
  },
  {
   "cell_type": "markdown",
   "metadata": {},
   "source": [
    "## Assert joint index"
   ]
  },
  {
   "cell_type": "code",
   "execution_count": 6,
   "id": "0ac206e0",
   "metadata": {},
   "outputs": [],
   "source": [
    "# joint connection of h36m dataset\n",
    "bones_3d = [[0,1],[1,2],[2,3],[0,4],[4,5],[5,6],\n",
    "           [0,7],[7,8],[8,9],[9,10],[8,11],[11,12],[12,13],\n",
    "           [8,14],[14,15],[15,16]]"
   ]
  },
  {
   "cell_type": "code",
   "execution_count": 35,
   "metadata": {},
   "outputs": [],
   "source": [
    "activity = [[0,'Directions'],\n",
    " [1,'Discussion'],\n",
    " [2,'Eating'],\n",
    " [3,'Greeting'],\n",
    " [4,'Phoning'],\n",
    " [5,'Photo'],\n",
    " [6,'Posing'],\n",
    " [7,'Purchases'],\n",
    " [8,'Sitting'],\n",
    " [9,'SittingDown'],\n",
    " [10,'Smoking'],\n",
    " [11,'Waiting'],\n",
    " [12,'WalkDog'],\n",
    " [13,'WalkTogether'],\n",
    " [14,'Walking']]"
   ]
  },
  {
   "cell_type": "markdown",
   "metadata": {},
   "source": [
    "## Check data format"
   ]
  },
  {
   "cell_type": "code",
   "execution_count": 8,
   "metadata": {},
   "outputs": [],
   "source": [
    "arg_dataset = 'h36m'\n",
    "arg_keypoints = 'gt'"
   ]
  },
  {
   "cell_type": "code",
   "execution_count": 9,
   "metadata": {},
   "outputs": [
    {
     "name": "stdout",
     "output_type": "stream",
     "text": [
      "./dataset/Human3.6M/data/data_3d_h36m.npz\n"
     ]
    }
   ],
   "source": [
    "fn_3d = ori_dir + 'data_3d_' + arg_dataset + '.npz'\n",
    "\n",
    "print(fn_3d)"
   ]
  },
  {
   "cell_type": "code",
   "execution_count": 12,
   "metadata": {},
   "outputs": [
    {
     "name": "stdout",
     "output_type": "stream",
     "text": [
      "32\n"
     ]
    }
   ],
   "source": [
    "sys.path.append('./dataset/Human3.6M')\n",
    "from common.h36m_dataset import Human36mDataset\n",
    "# dataset_3d = Human36mDataset(fn_3d)\n",
    "dataset_3d = Human36mDataset(fn_3d, remove_static_joints=False)"
   ]
  },
  {
   "cell_type": "code",
   "execution_count": 13,
   "metadata": {},
   "outputs": [
    {
     "data": {
      "text/plain": [
       "dict_keys(['S1', 'S5', 'S6', 'S7', 'S8', 'S9', 'S11'])"
      ]
     },
     "execution_count": 13,
     "metadata": {},
     "output_type": "execute_result"
    }
   ],
   "source": [
    "#subject list\n",
    "dataset_3d.subjects()"
   ]
  },
  {
   "cell_type": "code",
   "execution_count": 32,
   "metadata": {},
   "outputs": [],
   "source": [
    "subjects = list(dataset_3d.subjects())"
   ]
  },
  {
   "cell_type": "code",
   "execution_count": 14,
   "metadata": {},
   "outputs": [
    {
     "data": {
      "text/plain": [
       "(dict_keys(['Waiting 2', 'Purchases 1', 'Discussion 2', 'Walking', 'Smoking 1', 'Posing', 'Walking 1', 'WalkDog 1', 'Smoking', 'Discussion 3', 'Photo 2', 'Directions 1', 'Eating', 'WalkDog', 'WalkTogether', 'Purchases', 'Photo', 'SittingDown', 'Phoning', 'Greeting 1', 'Waiting 1', 'Sitting', 'SittingDown 1', 'Phoning 1', 'Posing 1', 'Greeting 2', 'WalkTogether 1', 'Sitting 1', 'Directions 2', 'Eating 1']),\n",
       " dict_keys(['Purchases 1', 'Discussion', 'Walking', 'Smoking 1', 'Sitting 2', 'Posing', 'Walking 1', 'SittingDown 2', 'Smoking', 'WalkDog 1', 'Directions 1', 'Eating', 'Photo 1', 'WalkTogether', 'Purchases', 'Greeting', 'Waiting', 'Photo', 'SittingDown', 'Directions', 'Phoning', 'Greeting 1', 'Waiting 1', 'Discussion 1', 'WalkDog', 'Phoning 1', 'Posing 1', 'WalkTogether 1', 'Eating 2', 'Sitting 1']))"
      ]
     },
     "execution_count": 14,
     "metadata": {},
     "output_type": "execute_result"
    }
   ],
   "source": [
    "#action list\n",
    "dataset_3d['S5'].keys(), dataset_3d['S1'].keys()"
   ]
  },
  {
   "cell_type": "code",
   "execution_count": 15,
   "metadata": {},
   "outputs": [
    {
     "data": {
      "text/plain": [
       "dict_keys(['positions', 'cameras'])"
      ]
     },
     "execution_count": 15,
     "metadata": {},
     "output_type": "execute_result"
    }
   ],
   "source": [
    "#list of information in 3d dataset\n",
    "dataset_3d['S1']['Discussion 1'].keys()"
   ]
  },
  {
   "cell_type": "code",
   "execution_count": 16,
   "metadata": {},
   "outputs": [
    {
     "data": {
      "text/plain": [
       "(3805, 17, 3)"
      ]
     },
     "execution_count": 16,
     "metadata": {},
     "output_type": "execute_result"
    }
   ],
   "source": [
    "#checking the shape of 3d dataset\n",
    "dataset_3d['S1']['Discussion 1']['positions'].shape"
   ]
  },
  {
   "cell_type": "code",
   "execution_count": 18,
   "metadata": {},
   "outputs": [
    {
     "data": {
      "text/plain": [
       "((17, 3),\n",
       " array([[-0.558101  ,  0.141726  ,  0.938813  ],\n",
       "        [-0.67187077,  0.07385716,  0.95001924],\n",
       "        [-0.6546506 ,  0.11767462,  0.50963396],\n",
       "        [-0.6684288 ,  0.18162316,  0.06016291],\n",
       "        [-0.444331  ,  0.20959496,  0.9276068 ],\n",
       "        [-0.45023102,  0.12758675,  0.49241108],\n",
       "        [-0.49315202,  0.26376322,  0.06122969],\n",
       "        [-0.5974489 ,  0.19180991,  1.1634316 ],\n",
       "        [-0.6171672 ,  0.21828736,  1.4183807 ],\n",
       "        [-0.59011763,  0.15883346,  1.5203966 ],\n",
       "        [-0.62647974,  0.22612561,  1.6062748 ],\n",
       "        [-0.48689085,  0.27549544,  1.3677185 ],\n",
       "        [-0.26529256,  0.13869329,  1.2679441 ],\n",
       "        [-0.2569279 , -0.08746215,  1.378187  ],\n",
       "        [-0.73250496,  0.14000122,  1.3602519 ],\n",
       "        [-0.73188984, -0.11642318,  1.2505825 ],\n",
       "        [-0.56502527, -0.28571692,  1.3334265 ]], dtype=float32))"
      ]
     },
     "execution_count": 18,
     "metadata": {},
     "output_type": "execute_result"
    }
   ],
   "source": [
    "data_3d = dataset_3d['S1']['Discussion 1']['positions'][10]\n",
    "data_3d.shape, data_3d"
   ]
  },
  {
   "cell_type": "markdown",
   "metadata": {},
   "source": [
    "## Rearrange data format"
   ]
  },
  {
   "cell_type": "code",
   "execution_count": 36,
   "metadata": {},
   "outputs": [
    {
     "name": "stdout",
     "output_type": "stream",
     "text": [
      "Sucess creating directory. -> ./dataset/preprocess/H36M/Directions\n",
      "Sucess creating directory. -> ./dataset/preprocess/H36M/Discussion\n",
      "Sucess creating directory. -> ./dataset/preprocess/H36M/Eating\n",
      "Sucess creating directory. -> ./dataset/preprocess/H36M/Greeting\n",
      "Sucess creating directory. -> ./dataset/preprocess/H36M/Phoning\n",
      "Sucess creating directory. -> ./dataset/preprocess/H36M/Photo\n",
      "Sucess creating directory. -> ./dataset/preprocess/H36M/Posing\n",
      "Sucess creating directory. -> ./dataset/preprocess/H36M/Purchases\n",
      "Sucess creating directory. -> ./dataset/preprocess/H36M/Sitting\n",
      "Sucess creating directory. -> ./dataset/preprocess/H36M/SittingDown\n",
      "Sucess creating directory. -> ./dataset/preprocess/H36M/Smoking\n",
      "Sucess creating directory. -> ./dataset/preprocess/H36M/Waiting\n",
      "Sucess creating directory. -> ./dataset/preprocess/H36M/WalkDog\n",
      "Sucess creating directory. -> ./dataset/preprocess/H36M/WalkTogether\n",
      "Sucess creating directory. -> ./dataset/preprocess/H36M/Walking\n"
     ]
    }
   ],
   "source": [
    "for i in activity:\n",
    "    createFolder(prcs_dir + '{}'.format(i[1]))"
   ]
  },
  {
   "cell_type": "code",
   "execution_count": 39,
   "metadata": {
    "scrolled": true
   },
   "outputs": [
    {
     "name": "stdout",
     "output_type": "stream",
     "text": [
      "Writing for ./dataset/preprocess/H36M/Purchases/S1_e01.txt\n",
      "Writing for ./dataset/preprocess/H36M/Discussion/S1_e00.txt\n",
      "Writing for ./dataset/preprocess/H36M/Walking/S1_e00.txt\n",
      "Writing for ./dataset/preprocess/H36M/Smoking/S1_e01.txt\n",
      "Writing for ./dataset/preprocess/H36M/Sitting/S1_e02.txt\n",
      "Writing for ./dataset/preprocess/H36M/Posing/S1_e00.txt\n",
      "Writing for ./dataset/preprocess/H36M/Walking/S1_e01.txt\n",
      "Writing for ./dataset/preprocess/H36M/SittingDown/S1_e02.txt\n",
      "Writing for ./dataset/preprocess/H36M/Smoking/S1_e00.txt\n",
      "Writing for ./dataset/preprocess/H36M/WalkDog/S1_e01.txt\n",
      "Writing for ./dataset/preprocess/H36M/Directions/S1_e01.txt\n",
      "Writing for ./dataset/preprocess/H36M/Eating/S1_e00.txt\n",
      "Writing for ./dataset/preprocess/H36M/Photo/S1_e01.txt\n",
      "Writing for ./dataset/preprocess/H36M/WalkTogether/S1_e00.txt\n",
      "Writing for ./dataset/preprocess/H36M/Purchases/S1_e00.txt\n",
      "Writing for ./dataset/preprocess/H36M/Greeting/S1_e00.txt\n",
      "Writing for ./dataset/preprocess/H36M/Waiting/S1_e00.txt\n",
      "Writing for ./dataset/preprocess/H36M/Photo/S1_e00.txt\n",
      "Writing for ./dataset/preprocess/H36M/SittingDown/S1_e00.txt\n",
      "Writing for ./dataset/preprocess/H36M/Directions/S1_e00.txt\n",
      "Writing for ./dataset/preprocess/H36M/Phoning/S1_e00.txt\n",
      "Writing for ./dataset/preprocess/H36M/Greeting/S1_e01.txt\n",
      "Writing for ./dataset/preprocess/H36M/Waiting/S1_e01.txt\n",
      "Writing for ./dataset/preprocess/H36M/Discussion/S1_e01.txt\n",
      "Writing for ./dataset/preprocess/H36M/WalkDog/S1_e00.txt\n",
      "Writing for ./dataset/preprocess/H36M/Phoning/S1_e01.txt\n",
      "Writing for ./dataset/preprocess/H36M/Posing/S1_e01.txt\n",
      "Writing for ./dataset/preprocess/H36M/WalkTogether/S1_e01.txt\n",
      "Writing for ./dataset/preprocess/H36M/Eating/S1_e02.txt\n",
      "Writing for ./dataset/preprocess/H36M/Sitting/S1_e01.txt\n",
      "Writing for ./dataset/preprocess/H36M/Waiting/S5_e02.txt\n",
      "Writing for ./dataset/preprocess/H36M/Purchases/S5_e01.txt\n",
      "Writing for ./dataset/preprocess/H36M/Discussion/S5_e02.txt\n",
      "Writing for ./dataset/preprocess/H36M/Walking/S5_e00.txt\n",
      "Writing for ./dataset/preprocess/H36M/Smoking/S5_e01.txt\n",
      "Writing for ./dataset/preprocess/H36M/Posing/S5_e00.txt\n",
      "Writing for ./dataset/preprocess/H36M/Walking/S5_e01.txt\n",
      "Writing for ./dataset/preprocess/H36M/WalkDog/S5_e01.txt\n",
      "Writing for ./dataset/preprocess/H36M/Smoking/S5_e00.txt\n",
      "Writing for ./dataset/preprocess/H36M/Discussion/S5_e03.txt\n",
      "Writing for ./dataset/preprocess/H36M/Photo/S5_e02.txt\n",
      "Writing for ./dataset/preprocess/H36M/Directions/S5_e01.txt\n",
      "Writing for ./dataset/preprocess/H36M/Eating/S5_e00.txt\n",
      "Writing for ./dataset/preprocess/H36M/WalkDog/S5_e00.txt\n",
      "Writing for ./dataset/preprocess/H36M/WalkTogether/S5_e00.txt\n",
      "Writing for ./dataset/preprocess/H36M/Purchases/S5_e00.txt\n",
      "Writing for ./dataset/preprocess/H36M/Photo/S5_e00.txt\n",
      "Writing for ./dataset/preprocess/H36M/SittingDown/S5_e00.txt\n",
      "Writing for ./dataset/preprocess/H36M/Phoning/S5_e00.txt\n",
      "Writing for ./dataset/preprocess/H36M/Greeting/S5_e01.txt\n",
      "Writing for ./dataset/preprocess/H36M/Waiting/S5_e01.txt\n",
      "Writing for ./dataset/preprocess/H36M/Sitting/S5_e00.txt\n",
      "Writing for ./dataset/preprocess/H36M/SittingDown/S5_e01.txt\n",
      "Writing for ./dataset/preprocess/H36M/Phoning/S5_e01.txt\n",
      "Writing for ./dataset/preprocess/H36M/Posing/S5_e01.txt\n",
      "Writing for ./dataset/preprocess/H36M/Greeting/S5_e02.txt\n",
      "Writing for ./dataset/preprocess/H36M/WalkTogether/S5_e01.txt\n",
      "Writing for ./dataset/preprocess/H36M/Sitting/S5_e01.txt\n",
      "Writing for ./dataset/preprocess/H36M/Directions/S5_e02.txt\n",
      "Writing for ./dataset/preprocess/H36M/Eating/S5_e01.txt\n",
      "Writing for ./dataset/preprocess/H36M/Purchases/S6_e01.txt\n",
      "Writing for ./dataset/preprocess/H36M/Discussion/S6_e00.txt\n",
      "Writing for ./dataset/preprocess/H36M/Walking/S6_e00.txt\n",
      "Writing for ./dataset/preprocess/H36M/Smoking/S6_e01.txt\n",
      "Writing for ./dataset/preprocess/H36M/Posing/S6_e02.txt\n",
      "Writing for ./dataset/preprocess/H36M/Sitting/S6_e02.txt\n",
      "Writing for ./dataset/preprocess/H36M/Posing/S6_e00.txt\n",
      "Writing for ./dataset/preprocess/H36M/Walking/S6_e01.txt\n",
      "Writing for ./dataset/preprocess/H36M/WalkDog/S6_e01.txt\n",
      "Writing for ./dataset/preprocess/H36M/Smoking/S6_e00.txt\n",
      "Writing for ./dataset/preprocess/H36M/Directions/S6_e01.txt\n",
      "Writing for ./dataset/preprocess/H36M/WalkDog/S6_e00.txt\n",
      "Writing for ./dataset/preprocess/H36M/WalkTogether/S6_e00.txt\n",
      "Writing for ./dataset/preprocess/H36M/Purchases/S6_e00.txt\n",
      "Writing for ./dataset/preprocess/H36M/Greeting/S6_e00.txt\n",
      "Writing for ./dataset/preprocess/H36M/Photo/S6_e00.txt\n",
      "Writing for ./dataset/preprocess/H36M/Waiting/S6_e00.txt\n",
      "Writing for ./dataset/preprocess/H36M/SittingDown/S6_e00.txt\n",
      "Writing for ./dataset/preprocess/H36M/Directions/S6_e00.txt\n",
      "Writing for ./dataset/preprocess/H36M/Phoning/S6_e00.txt\n",
      "Writing for ./dataset/preprocess/H36M/Waiting/S6_e03.txt\n",
      "Writing for ./dataset/preprocess/H36M/Greeting/S6_e01.txt\n",
      "Writing for ./dataset/preprocess/H36M/Discussion/S6_e01.txt\n",
      "Writing for ./dataset/preprocess/H36M/SittingDown/S6_e01.txt\n",
      "Writing for ./dataset/preprocess/H36M/Phoning/S6_e01.txt\n",
      "Writing for ./dataset/preprocess/H36M/Photo/S6_e01.txt\n",
      "Writing for ./dataset/preprocess/H36M/WalkTogether/S6_e01.txt\n",
      "Writing for ./dataset/preprocess/H36M/Eating/S6_e02.txt\n",
      "Writing for ./dataset/preprocess/H36M/Sitting/S6_e01.txt\n",
      "Writing for ./dataset/preprocess/H36M/Eating/S6_e01.txt\n",
      "Writing for ./dataset/preprocess/H36M/Waiting/S7_e02.txt\n",
      "Writing for ./dataset/preprocess/H36M/Purchases/S7_e01.txt\n",
      "Writing for ./dataset/preprocess/H36M/Discussion/S7_e00.txt\n",
      "Writing for ./dataset/preprocess/H36M/Smoking/S7_e01.txt\n",
      "Writing for ./dataset/preprocess/H36M/Posing/S7_e00.txt\n",
      "Writing for ./dataset/preprocess/H36M/Walking/S7_e01.txt\n",
      "Writing for ./dataset/preprocess/H36M/WalkDog/S7_e01.txt\n",
      "Writing for ./dataset/preprocess/H36M/Smoking/S7_e00.txt\n",
      "Writing for ./dataset/preprocess/H36M/Directions/S7_e01.txt\n",
      "Writing for ./dataset/preprocess/H36M/Walking/S7_e02.txt\n",
      "Writing for ./dataset/preprocess/H36M/Eating/S7_e00.txt\n",
      "Writing for ./dataset/preprocess/H36M/WalkDog/S7_e00.txt\n",
      "Writing for ./dataset/preprocess/H36M/WalkTogether/S7_e00.txt\n",
      "Writing for ./dataset/preprocess/H36M/Purchases/S7_e00.txt\n",
      "Writing for ./dataset/preprocess/H36M/Greeting/S7_e00.txt\n",
      "Writing for ./dataset/preprocess/H36M/Photo/S7_e00.txt\n",
      "Writing for ./dataset/preprocess/H36M/SittingDown/S7_e00.txt\n",
      "Writing for ./dataset/preprocess/H36M/Directions/S7_e00.txt\n",
      "Writing for ./dataset/preprocess/H36M/Phoning/S7_e00.txt\n",
      "Writing for ./dataset/preprocess/H36M/Greeting/S7_e01.txt\n",
      "Writing for ./dataset/preprocess/H36M/Waiting/S7_e01.txt\n",
      "Writing for ./dataset/preprocess/H36M/Sitting/S7_e00.txt\n",
      "Writing for ./dataset/preprocess/H36M/Discussion/S7_e01.txt\n",
      "Writing for ./dataset/preprocess/H36M/SittingDown/S7_e01.txt\n",
      "Writing for ./dataset/preprocess/H36M/Posing/S7_e01.txt\n",
      "Writing for ./dataset/preprocess/H36M/Photo/S7_e01.txt\n",
      "Writing for ./dataset/preprocess/H36M/WalkTogether/S7_e01.txt\n",
      "Writing for ./dataset/preprocess/H36M/Sitting/S7_e01.txt\n",
      "Writing for ./dataset/preprocess/H36M/Phoning/S7_e02.txt\n",
      "Writing for ./dataset/preprocess/H36M/Eating/S7_e01.txt\n",
      "Writing for ./dataset/preprocess/H36M/Purchases/S8_e01.txt\n",
      "Writing for ./dataset/preprocess/H36M/Discussion/S8_e00.txt\n",
      "Writing for ./dataset/preprocess/H36M/Walking/S8_e00.txt\n",
      "Writing for ./dataset/preprocess/H36M/Smoking/S8_e01.txt\n",
      "Writing for ./dataset/preprocess/H36M/Posing/S8_e00.txt\n",
      "Writing for ./dataset/preprocess/H36M/Walking/S8_e01.txt\n",
      "Writing for ./dataset/preprocess/H36M/WalkDog/S8_e01.txt\n",
      "Writing for ./dataset/preprocess/H36M/Smoking/S8_e00.txt\n",
      "Writing for ./dataset/preprocess/H36M/Directions/S8_e01.txt\n",
      "Writing for ./dataset/preprocess/H36M/Eating/S8_e00.txt\n",
      "Writing for ./dataset/preprocess/H36M/WalkDog/S8_e00.txt\n",
      "Writing for ./dataset/preprocess/H36M/Purchases/S8_e00.txt\n",
      "Writing for ./dataset/preprocess/H36M/Greeting/S8_e00.txt\n",
      "Writing for ./dataset/preprocess/H36M/Photo/S8_e00.txt\n",
      "Writing for ./dataset/preprocess/H36M/Waiting/S8_e00.txt\n",
      "Writing for ./dataset/preprocess/H36M/SittingDown/S8_e00.txt\n",
      "Writing for ./dataset/preprocess/H36M/Directions/S8_e00.txt\n",
      "Writing for ./dataset/preprocess/H36M/Phoning/S8_e00.txt\n",
      "Writing for ./dataset/preprocess/H36M/Greeting/S8_e01.txt\n",
      "Writing for ./dataset/preprocess/H36M/WalkTogether/S8_e02.txt\n",
      "Writing for ./dataset/preprocess/H36M/Waiting/S8_e01.txt\n",
      "Writing for ./dataset/preprocess/H36M/Sitting/S8_e00.txt\n"
     ]
    },
    {
     "name": "stdout",
     "output_type": "stream",
     "text": [
      "Writing for ./dataset/preprocess/H36M/Discussion/S8_e01.txt\n",
      "Writing for ./dataset/preprocess/H36M/SittingDown/S8_e01.txt\n",
      "Writing for ./dataset/preprocess/H36M/Phoning/S8_e01.txt\n",
      "Writing for ./dataset/preprocess/H36M/Posing/S8_e01.txt\n",
      "Writing for ./dataset/preprocess/H36M/Photo/S8_e01.txt\n",
      "Writing for ./dataset/preprocess/H36M/WalkTogether/S8_e01.txt\n",
      "Writing for ./dataset/preprocess/H36M/Sitting/S8_e01.txt\n",
      "Writing for ./dataset/preprocess/H36M/Eating/S8_e01.txt\n",
      "Writing for ./dataset/preprocess/H36M/Purchases/S9_e01.txt\n",
      "Writing for ./dataset/preprocess/H36M/Discussion/S9_e02.txt\n",
      "Writing for ./dataset/preprocess/H36M/Walking/S9_e00.txt\n",
      "Writing for ./dataset/preprocess/H36M/Smoking/S9_e01.txt\n",
      "Writing for ./dataset/preprocess/H36M/Posing/S9_e00.txt\n",
      "Writing for ./dataset/preprocess/H36M/Walking/S9_e01.txt\n",
      "Writing for ./dataset/preprocess/H36M/WalkDog/S9_e01.txt\n",
      "Writing for ./dataset/preprocess/H36M/Smoking/S9_e00.txt\n",
      "Writing for ./dataset/preprocess/H36M/Directions/S9_e01.txt\n",
      "Writing for ./dataset/preprocess/H36M/Eating/S9_e00.txt\n",
      "Writing for ./dataset/preprocess/H36M/WalkDog/S9_e00.txt\n",
      "Writing for ./dataset/preprocess/H36M/WalkTogether/S9_e00.txt\n",
      "Writing for ./dataset/preprocess/H36M/Purchases/S9_e00.txt\n",
      "Writing for ./dataset/preprocess/H36M/Greeting/S9_e00.txt\n",
      "Writing for ./dataset/preprocess/H36M/Photo/S9_e00.txt\n",
      "Writing for ./dataset/preprocess/H36M/Waiting/S9_e00.txt\n",
      "Writing for ./dataset/preprocess/H36M/SittingDown/S9_e00.txt\n",
      "Writing for ./dataset/preprocess/H36M/Directions/S9_e00.txt\n",
      "Writing for ./dataset/preprocess/H36M/Phoning/S9_e00.txt\n",
      "Writing for ./dataset/preprocess/H36M/Greeting/S9_e01.txt\n",
      "Writing for ./dataset/preprocess/H36M/Waiting/S9_e01.txt\n",
      "Writing for ./dataset/preprocess/H36M/Sitting/S9_e00.txt\n",
      "Writing for ./dataset/preprocess/H36M/Discussion/S9_e01.txt\n",
      "Writing for ./dataset/preprocess/H36M/SittingDown/S9_e01.txt\n",
      "Writing for ./dataset/preprocess/H36M/Phoning/S9_e01.txt\n",
      "Writing for ./dataset/preprocess/H36M/Posing/S9_e01.txt\n",
      "Writing for ./dataset/preprocess/H36M/Photo/S9_e01.txt\n",
      "Writing for ./dataset/preprocess/H36M/WalkTogether/S9_e01.txt\n",
      "Writing for ./dataset/preprocess/H36M/Sitting/S9_e01.txt\n",
      "Writing for ./dataset/preprocess/H36M/Eating/S9_e01.txt\n",
      "Writing for ./dataset/preprocess/H36M/Purchases/S11_e01.txt\n",
      "Writing for ./dataset/preprocess/H36M/Discussion/S11_e02.txt\n",
      "Writing for ./dataset/preprocess/H36M/Walking/S11_e00.txt\n",
      "Writing for ./dataset/preprocess/H36M/Posing/S11_e00.txt\n",
      "Writing for ./dataset/preprocess/H36M/Walking/S11_e01.txt\n",
      "Writing for ./dataset/preprocess/H36M/WalkDog/S11_e01.txt\n",
      "Writing for ./dataset/preprocess/H36M/Smoking/S11_e00.txt\n",
      "Writing for ./dataset/preprocess/H36M/Smoking/S11_e02.txt\n",
      "Writing for ./dataset/preprocess/H36M/Directions/S11_e01.txt\n",
      "Writing for ./dataset/preprocess/H36M/Eating/S11_e00.txt\n",
      "Writing for ./dataset/preprocess/H36M/Phoning/S11_e03.txt\n",
      "Writing for ./dataset/preprocess/H36M/WalkDog/S11_e00.txt\n",
      "Writing for ./dataset/preprocess/H36M/WalkTogether/S11_e00.txt\n",
      "Writing for ./dataset/preprocess/H36M/Purchases/S11_e00.txt\n",
      "Writing for ./dataset/preprocess/H36M/Greeting/S11_e00.txt\n",
      "Writing for ./dataset/preprocess/H36M/Photo/S11_e00.txt\n",
      "Writing for ./dataset/preprocess/H36M/Waiting/S11_e00.txt\n",
      "Writing for ./dataset/preprocess/H36M/SittingDown/S11_e00.txt\n",
      "Writing for ./dataset/preprocess/H36M/Waiting/S11_e01.txt\n",
      "Writing for ./dataset/preprocess/H36M/Sitting/S11_e00.txt\n",
      "Writing for ./dataset/preprocess/H36M/Discussion/S11_e01.txt\n",
      "Writing for ./dataset/preprocess/H36M/SittingDown/S11_e01.txt\n",
      "Writing for ./dataset/preprocess/H36M/Posing/S11_e01.txt\n",
      "Writing for ./dataset/preprocess/H36M/Photo/S11_e01.txt\n",
      "Writing for ./dataset/preprocess/H36M/Greeting/S11_e02.txt\n",
      "Writing for ./dataset/preprocess/H36M/WalkTogether/S11_e01.txt\n",
      "Writing for ./dataset/preprocess/H36M/Sitting/S11_e01.txt\n",
      "Writing for ./dataset/preprocess/H36M/Phoning/S11_e02.txt\n",
      "Writing for ./dataset/preprocess/H36M/Eating/S11_e01.txt\n"
     ]
    }
   ],
   "source": [
    "for sub in subjects:\n",
    "    action_list = list(dataset_3d[sub])\n",
    "    for act in action_list:\n",
    "        if '1' in act:\n",
    "            txt_file = prcs_dir + f'{act[:-2]}/{sub}_e01.txt'\n",
    "            data = dataset_3d[sub][act]['positions']\n",
    "        elif '2' in act:\n",
    "            txt_file = prcs_dir + f'{act[:-2]}/{sub}_e02.txt'\n",
    "            data = dataset_3d[sub][act]['positions']\n",
    "        elif '3' in act:\n",
    "            txt_file = prcs_dir + f'{act[:-2]}/{sub}_e03.txt'\n",
    "            data = dataset_3d[sub][act]['positions']\n",
    "        else:\n",
    "            txt_file = prcs_dir + f'{act}/{sub}_e00.txt'\n",
    "            data = dataset_3d[sub][act]['positions']\n",
    "        \n",
    "        print(f'Writing for {txt_file}')\n",
    "        with open(txt_file, 'w') as f:\n",
    "            for frame_cnt in range(len(data)):\n",
    "                for k in range(17):\n",
    "                    x = str(data[frame_cnt][k][0])\n",
    "                    y = str(data[frame_cnt][k][1])\n",
    "                    z = str(data[frame_cnt][k][2])\n",
    "                    f.write(x + '\\t' + y + '\\t' + z + '\\t')\n",
    "                f.write('\\n')\n",
    "            f.close()"
   ]
  },
  {
   "cell_type": "code",
   "execution_count": 40,
   "metadata": {},
   "outputs": [
    {
     "name": "stdout",
     "output_type": "stream",
     "text": [
      "./dataset/preprocess/H36M/Eating/S11_e01.txt\n"
     ]
    },
    {
     "data": {
      "text/plain": [
       "('Eating', 'S11_e01')"
      ]
     },
     "execution_count": 40,
     "metadata": {},
     "output_type": "execute_result"
    }
   ],
   "source": [
    "print(txt_file)\n",
    "data = np.loadtxt(txt_file)\n",
    "action = txt_file.split('/')[-2]\n",
    "incident = txt_file.split('/')[-1].split('.')[0]\n",
    "\n",
    "action, incident"
   ]
  },
  {
   "cell_type": "code",
   "execution_count": 41,
   "metadata": {},
   "outputs": [
    {
     "data": {
      "text/plain": [
       "((2275, 51),\n",
       " array([-0.29257   , -0.121461  ,  0.98631203, -0.42992657, -0.11267145,\n",
       "         0.99859476, -0.4441787 , -0.11538523,  0.5368822 , -0.41995063,\n",
       "         0.00724756,  0.09396011, -0.15521307, -0.13025056,  0.9740292 ,\n",
       "        -0.15884012, -0.12094928,  0.51219684, -0.18519136, -0.0084888 ,\n",
       "         0.06670363, -0.29473922, -0.1251146 ,  1.2406573 , -0.2901265 ,\n",
       "        -0.10285138,  1.4895686 , -0.30235448, -0.16933906,  1.5777144 ,\n",
       "        -0.30289862, -0.12048768,  1.6818203 , -0.12482845, -0.08622715,\n",
       "         1.4976956 ,  0.15633309, -0.11294328,  1.4771773 ,  0.39014792,\n",
       "        -0.19459659,  1.4951175 , -0.45557114, -0.09185244,  1.5027212 ,\n",
       "        -0.7171851 , -0.08965088,  1.3943735 , -0.95066756, -0.1694333 ,\n",
       "         1.3664274 ]))"
      ]
     },
     "execution_count": 41,
     "metadata": {},
     "output_type": "execute_result"
    }
   ],
   "source": [
    "data.shape, data[0]"
   ]
  },
  {
   "cell_type": "markdown",
   "metadata": {},
   "source": [
    "## Visualization"
   ]
  },
  {
   "cell_type": "code",
   "execution_count": 42,
   "id": "664e26da",
   "metadata": {},
   "outputs": [
    {
     "data": {
      "image/png": "[encoded data removed]",
      "text/plain": [
       "<Figure size 500x500 with 1 Axes>"
      ]
     },
     "metadata": {},
     "output_type": "display_data"
    }
   ],
   "source": [
    "# draw 3d skeleton: one frame\n",
    "frame_idx = 0\n",
    "\n",
    "fig = plt.figure(figsize=(5,5)) #figsize=(20,20)\n",
    "ax = fig.add_subplot(projection='3d')\n",
    "ax.set_aspect('auto') ##############\n",
    "ax.view_init(30, -30)\n",
    "\n",
    "ax.set_zlim(0, 1.5)\n",
    "ax.set_xlim(-0.5, 0.5)\n",
    "ax.set_ylim(-0.5, 0.5)\n",
    "ax.set_xlabel('x-axis')\n",
    "ax.set_ylabel('y-axis')\n",
    "ax.set_zlabel('z-axis')\n",
    "\n",
    "ax.quiver(0,0,0,0.2,0,0, color='r') #x-axis\n",
    "ax.quiver(0,0,0,0,0.2,0, color='g') #y-axis\n",
    "ax.quiver(0,0,0,0,0,0.2, color='b') #z-axis\n",
    "\n",
    "for bone in bones_3d:\n",
    "    s = bone[0]\n",
    "    e = bone[1]\n",
    "\n",
    "    col = 'black'\n",
    "\n",
    "    x = [(data[frame_idx][s*3]), (data[frame_idx][e*3])]\n",
    "    y = [(data[frame_idx][s*3+1]), (data[frame_idx][e*3+1])]\n",
    "    z = [(data[frame_idx][s*3+2]), (data[frame_idx][e*3+2])]\n",
    "\n",
    "    ax.plot(x, y, z, c = col)\n",
    "#     ax.text(x[0], y[0], z[0], s)\n",
    "#     ax.text(x[1], y[1], z[1], e)    \n",
    "\n",
    "plt.show()"
   ]
  },
  {
   "cell_type": "code",
   "execution_count": null,
   "id": "d52a05f2",
   "metadata": {},
   "outputs": [],
   "source": []
  }
 ],
 "metadata": {
  "kernelspec": {
   "display_name": "Python 3",
   "language": "python",
   "name": "python3"
  },
  "language_info": {
   "codemirror_mode": {
    "name": "ipython",
    "version": 3
   },
   "file_extension": ".py",
   "mimetype": "text/x-python",
   "name": "python",
   "nbconvert_exporter": "python",
   "pygments_lexer": "ipython3",
   "version": "3.8.10"
  }
 },
 "nbformat": 4,
 "nbformat_minor": 5
}
